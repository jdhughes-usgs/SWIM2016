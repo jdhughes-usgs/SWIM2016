{
 "cells": [
  {
   "cell_type": "markdown",
   "metadata": {},
   "source": [
    "![alt text](./img/header.png)\n",
    "\n",
    "# Exercise B: Calculation of Density Slopes and Fluid Density\n",
    "\n",
    "The purpose of this exercise is to familiarize course participants with the equations for calculating density, density slopes, heads and pressures.  These are important calculations when setting up a variable-density numerical model.   "
   ]
  },
  {
   "cell_type": "code",
   "execution_count": 1,
   "metadata": {
    "collapsed": false
   },
   "outputs": [],
   "source": [
    "# %load nbsetup.py\n",
    "%matplotlib inline\n",
    "import sys\n",
    "import os\n",
    "import numpy as np\n",
    "import matplotlib.pyplot as plt\n",
    "import flopy"
   ]
  },
  {
   "cell_type": "markdown",
   "metadata": {},
   "source": [
    "## Density Slopes\n",
    "\n",
    "An empirical relation between the density of saltwater and concentration based on [Baxter and Wallace (1916)](http://pubs.acs.org/doi/abs/10.1021/ja02258a010) is defined as\n",
    "\n",
    "$\\rho = \\rho_f + \\frac{\\partial \\rho}{\\partial C} (C - C_f)$\n",
    "\n",
    "where $\\rho$ is fluid density [ML$^{-3}$], $\\rho_f$ the density of freshwater [ML$^{-3}$], $C$ is the concentration of the fluid, and $C_f$ is the concentration of the constituent(s) in freshwater."
   ]
  },
  {
   "cell_type": "markdown",
   "metadata": {},
   "source": [
    "------------------\n",
    "\n",
    "### Exercise 1\n",
    "\n",
    "Assuming $\\rho_f$ = 1000 kg/m$^3$ and $\\rho_s$ = 1025 kg/m$^3$ fill in the following table\n",
    "\n",
    "|                                   |  Cf  |  Cs  | $\\Delta \\rho_{max}$  |  $\\Delta C_{max}$  |  Density Slope  |\n",
    "|-----------------------------------|:----:|:----:|:--------------------:|:------------------:|:---------------:|\n",
    "| TDS in kg/m3                      |  0   | 35   |                   25 | 35                 | 0.7143          |\n",
    "| TDS in lbs/ft3                    |  0 | 2.185    |  25    |   2.185                   |               11.4416            |\n",
    "| TDS in g/l                        |   0   |  35    |      25                |                35    |    0.7143             |\n",
    "| TDS in mg/l                       |   0   |  35000    |    25                  |              35000      |  0.0007143               |\n",
    "| Normalized TDS concentration      |   0   |   1   |      25                |                  1  |      25           |\n",
    "| Chloride in kg/m3                 |   0   |  19    |     25                 |                19    |    1.3158             |\n",
    "| Chloride in lbs/ft3               |   0   |  1.1861    |   25                   |            1.1861        |   21.077              |\n",
    "| Chloride in g/l                   |   0   |  19    |  25                    |                19    |      1.3158           |\n",
    "| Chloride in mg/l                  |   0   |  19000    |  25                    |              19000      |    0.0013157             |\n",
    "| Normalized Chloride concentration |   0   |  1    |     25                 |                  1  |        25         |"
   ]
  },
  {
   "cell_type": "markdown",
   "metadata": {},
   "source": [
    "---------------\n",
    "\n",
    "### Exercise 2\n",
    "\n",
    "Assuming $\\rho_f$ = 62.44 lbs/ft$^3$ and $\\rho_s$ = 64.001 lbs/m$^3$ fill in the following table\n",
    "\n",
    "\n",
    "|                                   |  Cf  |  Cs  | $\\Delta \\rho_{max}$  |  $\\Delta C_{max}$  |  Density Slope  |\n",
    "|-----------------------------------|:----:|:----:|:--------------------:|:------------------:|:---------------:|\n",
    "| TDS in kg/m3                      |   0   |  35    |       1.561               |               35     |      0.0446           |\n",
    "| TDS in lbs/ft3                    |   0   |  2.185    |       1.561               |           2.185         |     0.7144            |\n",
    "| TDS in g/l                        |   0   |   35   |       1.561               |               35     |        0.0446         |\n",
    "| TDS in mg/l                       |   0   |   35000   |    1.561                  |           35000         |   0.000446              |\n",
    "| Normalized TDS concentration      |   0   |   1   |        1.561              |               1     |      1.561           |\n",
    "| Chloride in kg/m3                 |   0   |   19   |      1.561                |               19     |     0.08216            |\n",
    "| Chloride in lbs/ft3               |   0   |   1.1861   |     1.561                 |           1.1861         |   1.3161              |\n",
    "| Chloride in g/l                   |   0   |   19   |      1.561                |               19     |      0.08216           |\n",
    "| Chloride in mg/l                  |   0   |   19000   |       1.561               |           19000         |      0.00008216           |\n",
    "| Normalized Chloride concentration |   0   |   1   |         1.561             |               1     |     1.561            |"
   ]
  },
  {
   "cell_type": "markdown",
   "metadata": {},
   "source": [
    "-------------\n",
    "\n",
    "The linear relation between fluid concentration and density can be extended to include the contribution of multiple species and temperature. The extended fluid concentration fluid density relation is\n",
    "\n",
    "$\\rho = \\rho_f + \\sum_{k=1}^{NS} \\frac{\\partial \\rho}{\\partial C} (C - C_f) + \\frac{\\partial \\rho}{\\partial T} (T - T_0)$,\n",
    "\n",
    "where $NS$ is the number of simulated species, $T$ is the fluid temperature, and $T_0$ is a reference temperature.\n",
    "\n",
    "--------------\n",
    "\n",
    "### Exercise 3\n",
    "\n",
    "Assuming the density of freshwater is 1000 kg/m$^3$ at 4$^{\\circ}$ C and 998.2 kg/m$^3$ at 20$^{\\circ}$ C what is $\\frac{\\partial \\rho}{\\partial T}$?"
   ]
  },
  {
   "cell_type": "code",
   "execution_count": 2,
   "metadata": {
    "collapsed": false
   },
   "outputs": [
    {
     "data": {
      "text/plain": [
       "-0.11249999999999716"
      ]
     },
     "execution_count": 2,
     "metadata": {},
     "output_type": "execute_result"
    }
   ],
   "source": [
    "(1000 - 998.2) / (4 - 20)"
   ]
  },
  {
   "cell_type": "markdown",
   "metadata": {
    "collapsed": true
   },
   "source": [
    "--------\n",
    "\n",
    "The relation between temperature and density is non-linear between 0 and 100$^{\\circ}$ and is shown below."
   ]
  },
  {
   "cell_type": "code",
   "execution_count": 3,
   "metadata": {
    "collapsed": false
   },
   "outputs": [
    {
     "name": "stdout",
     "output_type": "stream",
     "text": [
      "[   0.     4.     4.4   10.    15.6   21.    26.7   32.2   37.8   48.9\n",
      "   60.    71.1   82.2   93.3  100. ]\n",
      "[  999.87  1000.     999.99   999.75   999.07   998.02   996.69   995.1\n",
      "   993.18   988.7    983.38   977.29   970.56   963.33   958.65]\n"
     ]
    },
    {
     "data": {
      "image/png": "[encoded data removed]",
      "text/plain": [
       "<matplotlib.figure.Figure at 0x10d46cfd0>"
      ]
     },
     "metadata": {},
     "output_type": "display_data"
    }
   ],
   "source": [
    "fn = os.path.join('data', 'Trhorelation.txt')\n",
    "trho = np.genfromtxt(fn, names=['temp', 'rho'])\n",
    "plt.plot(trho['temp'], trho['rho'])\n",
    "print(trho['temp'])\n",
    "print(trho['rho'])"
   ]
  },
  {
   "cell_type": "markdown",
   "metadata": {},
   "source": [
    "---------\n",
    "\n",
    "### Exercise 4\n",
    "\n",
    "Use the data above to calculate $\\frac{\\partial \\rho}{\\partial T}$ between 10 and 32.2$^{\\circ}$ C. "
   ]
  },
  {
   "cell_type": "code",
   "execution_count": 4,
   "metadata": {
    "collapsed": false
   },
   "outputs": [
    {
     "data": {
      "text/plain": [
       "-0.2094594594594584"
      ]
     },
     "execution_count": 4,
     "metadata": {},
     "output_type": "execute_result"
    }
   ],
   "source": [
    "(999.75 - 995.1) / (10 - 32.2)"
   ]
  },
  {
   "cell_type": "markdown",
   "metadata": {},
   "source": [
    "## Calculation of Fluid Density\n",
    "\n",
    "Calculate the density of the samples shown below using the density slopes that you calculated earlier.\n",
    "\n",
    "### Exercise 5\n",
    "\n",
    "**Sample 1:** TDS = 10,000 mg/l"
   ]
  },
  {
   "cell_type": "code",
   "execution_count": 5,
   "metadata": {
    "collapsed": false
   },
   "outputs": [
    {
     "data": {
      "text/plain": [
       "1007.143"
      ]
     },
     "execution_count": 5,
     "metadata": {},
     "output_type": "execute_result"
    }
   ],
   "source": [
    "1000. + 0.0007143 * 10000"
   ]
  },
  {
   "cell_type": "markdown",
   "metadata": {},
   "source": [
    "**Sample 2:** TDS = 35,000 mg/l"
   ]
  },
  {
   "cell_type": "code",
   "execution_count": 6,
   "metadata": {
    "collapsed": false
   },
   "outputs": [
    {
     "data": {
      "text/plain": [
       "1025.0005"
      ]
     },
     "execution_count": 6,
     "metadata": {},
     "output_type": "execute_result"
    }
   ],
   "source": [
    "1000. + 0.0007143 * 35000"
   ]
  },
  {
   "cell_type": "markdown",
   "metadata": {},
   "source": [
    "**Sample 3:** Chloride concentration = 5,000 mg/l"
   ]
  },
  {
   "cell_type": "code",
   "execution_count": 7,
   "metadata": {
    "collapsed": false
   },
   "outputs": [
    {
     "data": {
      "text/plain": [
       "1006.5785"
      ]
     },
     "execution_count": 7,
     "metadata": {},
     "output_type": "execute_result"
    }
   ],
   "source": [
    "1000 + 0.0013157 * 5000"
   ]
  },
  {
   "cell_type": "markdown",
   "metadata": {},
   "source": [
    "**Sample 4:** Relative Chloride concentration = 0.5"
   ]
  },
  {
   "cell_type": "code",
   "execution_count": 8,
   "metadata": {
    "collapsed": false
   },
   "outputs": [
    {
     "data": {
      "text/plain": [
       "1012.5"
      ]
     },
     "execution_count": 8,
     "metadata": {},
     "output_type": "execute_result"
    }
   ],
   "source": [
    "1000 + 25 * .5"
   ]
  },
  {
   "cell_type": "markdown",
   "metadata": {},
   "source": [
    "**Sample 5:** Chloride concentration = 19,000 mg/l"
   ]
  },
  {
   "cell_type": "code",
   "execution_count": 9,
   "metadata": {
    "collapsed": false
   },
   "outputs": [
    {
     "data": {
      "text/plain": [
       "1024.9983"
      ]
     },
     "execution_count": 9,
     "metadata": {},
     "output_type": "execute_result"
    }
   ],
   "source": [
    "1000 + 0.0013157 * 19000"
   ]
  },
  {
   "cell_type": "markdown",
   "metadata": {},
   "source": [
    "**Sample 6:** Chloride concentration = 200 mg/l and TDS = 2000 mg/l (which concentration would provide a better estimate of density)"
   ]
  },
  {
   "cell_type": "code",
   "execution_count": 10,
   "metadata": {
    "collapsed": false
   },
   "outputs": [
    {
     "data": {
      "text/plain": [
       "1000.26314"
      ]
     },
     "execution_count": 10,
     "metadata": {},
     "output_type": "execute_result"
    }
   ],
   "source": [
    "1000 + 0.0013157 * 200"
   ]
  },
  {
   "cell_type": "code",
   "execution_count": 11,
   "metadata": {
    "collapsed": false
   },
   "outputs": [
    {
     "data": {
      "text/plain": [
       "1001.4286"
      ]
     },
     "execution_count": 11,
     "metadata": {},
     "output_type": "execute_result"
    }
   ],
   "source": [
    "1000 + 0.0007143 * 2000"
   ]
  },
  {
   "cell_type": "markdown",
   "metadata": {
    "collapsed": true
   },
   "source": [
    "**Sample 7:** Chloride concentration = 19,000 mg/l with a freshwater density of 999.75 kg/m$^3$ at 10$^{\\circ}$ C."
   ]
  },
  {
   "cell_type": "code",
   "execution_count": 12,
   "metadata": {
    "collapsed": false
   },
   "outputs": [
    {
     "data": {
      "text/plain": [
       "1024.7483"
      ]
     },
     "execution_count": 12,
     "metadata": {},
     "output_type": "execute_result"
    }
   ],
   "source": [
    "999.75 + 0.0013157 * 19000"
   ]
  },
  {
   "cell_type": "markdown",
   "metadata": {},
   "source": [
    "**Sample 8:** Chloride concentration = 19,000 mg/l at 21$^{\\circ}$ C assuming a $\\frac{\\partial \\rho}{\\partial T}$ of -0.375, a reference temperature ($T0$) of 10$^{\\circ}$ C, and freshwater density of 999.75 kg/m$^3$ at 10$^{\\circ}$ C."
   ]
  },
  {
   "cell_type": "code",
   "execution_count": 13,
   "metadata": {
    "collapsed": false
   },
   "outputs": [
    {
     "data": {
      "text/plain": [
       "1020.6233"
      ]
     },
     "execution_count": 13,
     "metadata": {},
     "output_type": "execute_result"
    }
   ],
   "source": [
    "999.75 + 0.0013157 * 19000 - 0.375 * (21 - 10)"
   ]
  },
  {
   "cell_type": "code",
   "execution_count": null,
   "metadata": {
    "collapsed": true
   },
   "outputs": [],
   "source": []
  }
 ],
 "metadata": {
  "kernelspec": {
   "display_name": "Python 3",
   "language": "python",
   "name": "python3"
  },
  "language_info": {
   "codemirror_mode": {
    "name": "ipython",
    "version": 3
   },
   "file_extension": ".py",
   "mimetype": "text/x-python",
   "name": "python",
   "nbconvert_exporter": "python",
   "pygments_lexer": "ipython3",
   "version": "3.5.1"
  }
 },
 "nbformat": 4,
 "nbformat_minor": 0
}
