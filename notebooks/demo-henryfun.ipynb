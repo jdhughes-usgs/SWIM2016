{
 "cells": [
  {
   "cell_type": "code",
   "execution_count": null,
   "metadata": {
    "collapsed": true
   },
   "outputs": [],
   "source": [
    "%matplotlib inline\n",
    "from __future__ import print_function\n",
    "import sys\n",
    "import os\n",
    "import shutil\n",
    "import numpy as np\n",
    "import matplotlib.pyplot as plt\n",
    "import flopy\n",
    "import config"
   ]
  },
  {
   "cell_type": "code",
   "execution_count": null,
   "metadata": {
    "collapsed": true
   },
   "outputs": [],
   "source": [
    "# setup a model workspace directory\n",
    "model_ws = os.path.join('work', 'henrysensitivity')\n",
    "if not os.path.isdir(model_ws):\n",
    "    os.mkdir(model_ws)"
   ]
  },
  {
   "cell_type": "code",
   "execution_count": null,
   "metadata": {
    "collapsed": false
   },
   "outputs": [],
   "source": [
    "def henryfun(dmcoef, nlay, ncol):\n",
    "    # model grid information\n",
    "    #nlay = 20\n",
    "    nrow = 1\n",
    "    #ncol = 42\n",
    "    top = 1.\n",
    "    bot = 0.\n",
    "    dx = 2. / ncol\n",
    "    dz = (top - bot) / nlay\n",
    "    botm = np.array([[z] * ncol for z in np.arange(1-dz, 1-(nlay + 1) * dz, -dz)]).reshape((nlay, nrow, ncol))\n",
    "    delr = np.array([dx] * ncol)\n",
    "    delr[-1] = 0.01\n",
    "    delc = 1\n",
    "\n",
    "    # temporal discretization\n",
    "    perlen = 0.15\n",
    "    nstp = 1\n",
    "    tsmult = 1.0\n",
    "    ttsmult = 1.1\n",
    "\n",
    "    # Input variables\n",
    "    hk = 864.\n",
    "    vk = 864.\n",
    "    porosity = 0.35\n",
    "    ss = 0.0001\n",
    "    #dmcoef = 1.629\n",
    "    Qinflow = 5.702\n",
    "    Csalt = 35.0001\n",
    "    Cfresh = 0.\n",
    "    densesalt = 1025.\n",
    "    densefresh = 1000.\n",
    "    denseslp = (densesalt - densefresh) / (Csalt - Cfresh)\n",
    "\n",
    "    # Create the data needed to make the constant head package\n",
    "    chddata = []\n",
    "    for k in range(nlay):\n",
    "        chddata.append([k, 0, ncol - 1, 1.0, 1.0])\n",
    "\n",
    "    # Create the data needed to make the well package\n",
    "    weldata = []\n",
    "    wellQ = Qinflow / nlay\n",
    "    for k in range(nlay):\n",
    "        weldata.append([k, 0, 0, wellQ])\n",
    "\n",
    "    # create the ssm data\n",
    "    itype = flopy.mt3d.Mt3dSsm.itype_dict()\n",
    "    ssmdata = []\n",
    "    for rec in chddata:\n",
    "        k = rec[0]\n",
    "        i = rec[1]\n",
    "        j = rec[2]\n",
    "        ssmdata.append([k, i, j, Csalt, itype['CHD']])\n",
    "    for rec in weldata:\n",
    "        k = rec[0]\n",
    "        i = rec[1]\n",
    "        j = rec[2]\n",
    "        ssmdata.append([k, i, j, Cfresh, itype['WEL']])\n",
    "\n",
    "    ssmdata = {0: ssmdata}\n",
    "    chddata = {0: chddata}\n",
    "    weldata = {0: weldata}\n",
    "\n",
    "    # create the flopy objects\n",
    "    modelname = 'henry'\n",
    "    m = flopy.seawat.Seawat(modelname, model_ws=model_ws, exe_name=config.swexe)\n",
    "\n",
    "    # modflow packages\n",
    "    dis = flopy.modflow.ModflowDis(m, nlay, nrow, ncol, nper=1, delr=delr,\n",
    "                                   delc=delc, laycbd=0, top=top,\n",
    "                                   botm=botm, perlen=perlen, nstp=nstp)\n",
    "    bas = flopy.modflow.ModflowBas(m)\n",
    "    lpf = flopy.modflow.ModflowLpf(m, hk=hk, vka=hk)\n",
    "    chd = flopy.modflow.ModflowChd(m, stress_period_data=chddata)\n",
    "    wel = flopy.modflow.ModflowWel(m, stress_period_data=weldata)\n",
    "    pcg = flopy.modflow.ModflowPcg(m, hclose=1.e-8)\n",
    "    oc = flopy.modflow.ModflowOc(m, stress_period_data={(0, 0): ['save head', 'save budget']},\n",
    "                                 compact=True)\n",
    "\n",
    "    # mt3d packages\n",
    "    btn = flopy.mt3d.Mt3dBtn(m, nprs=-1, prsity=porosity, sconc=Csalt, ifmtcn=0,\n",
    "                             chkmas=False, nprobs=10, nprmas=10, dt0=1.e-4, ttsmult=ttsmult)\n",
    "    adv = flopy.mt3d.Mt3dAdv(m, mixelm=0)\n",
    "    dsp = flopy.mt3d.Mt3dDsp(m, al=0., trpt=1., trpv=1., dmcoef=dmcoef)\n",
    "    gcg = flopy.mt3d.Mt3dGcg(m, iter1=500, mxiter=1, isolve=1, cclose=1e-7)\n",
    "    ssm = flopy.mt3d.Mt3dSsm(m, stress_period_data=ssmdata)\n",
    "\n",
    "    # seawat packages\n",
    "    vdf = flopy.seawat.SeawatVdf(m, iwtable=0, densemin=0, densemax=0,\n",
    "                                 denseref=densefresh, denseslp=denseslp, firstdt=1e-3)\n",
    "\n",
    "    # write the SEAWAT input files\n",
    "    m.write_input()\n",
    "\n",
    "    try:\n",
    "        fname = os.path.join(model_ws, 'MT3D001.UCN')\n",
    "        os.remove(fname)\n",
    "    except:\n",
    "        pass\n",
    "    if os.path.isfile(fname):\n",
    "        raise Exception('Cannot proceed UCN file still exists.')\n",
    "    success, dummy = m.run_model(silent=True)\n",
    "    if not success:\n",
    "        raise Exception('Model did not run successfully')\n",
    "\n",
    "    fname = os.path.join(model_ws, 'henry.cbc')\n",
    "    budobj = flopy.utils.CellBudgetFile(fname)\n",
    "    chdflows = budobj.get_data(text='CONSTANT HEAD')[0]\n",
    "    chdflows.q\n",
    "\n",
    "    #caluculate the sum of the negative flows\n",
    "    chdinflow = 0.\n",
    "    for value in chdflows.q:\n",
    "        if value > 0.:\n",
    "            chdinflow = chdinflow + value\n",
    "    return chdinflow"
   ]
  },
  {
   "cell_type": "code",
   "execution_count": null,
   "metadata": {
    "collapsed": false
   },
   "outputs": [],
   "source": [
    "listofdiffusioncoefficients = np.linspace(0, 3, 31)"
   ]
  },
  {
   "cell_type": "code",
   "execution_count": null,
   "metadata": {
    "collapsed": false
   },
   "outputs": [],
   "source": [
    "listofchdinflows_10x21 = []\n",
    "for dmcoef in listofdiffusioncoefficients:\n",
    "    chdinflow = henryfun(dmcoef, 10, 21)\n",
    "    listofchdinflows_10x21.append(chdinflow)"
   ]
  },
  {
   "cell_type": "code",
   "execution_count": null,
   "metadata": {
    "collapsed": false
   },
   "outputs": [],
   "source": [
    "listofchdinflows_20x42 = []\n",
    "for dmcoef in listofdiffusioncoefficients:\n",
    "    chdinflow = henryfun(dmcoef, 20, 42)\n",
    "    listofchdinflows_20x42.append(chdinflow)"
   ]
  },
  {
   "cell_type": "code",
   "execution_count": null,
   "metadata": {
    "collapsed": false
   },
   "outputs": [],
   "source": [
    "plt.plot(listofdiffusioncoefficients, listofchdinflows_10x21, 'bo-')\n",
    "plt.plot(listofdiffusioncoefficients, listofchdinflows_20x42, 'ro-')\n",
    "plt.xlabel('DIFFUSION COEFFICIENT')\n",
    "plt.ylabel('CONSTANT HEAD INFLOW')\n",
    "plt.title('OUR FIRST EXCITING HENRY ANALYSIS')"
   ]
  },
  {
   "cell_type": "code",
   "execution_count": null,
   "metadata": {
    "collapsed": true
   },
   "outputs": [],
   "source": []
  }
 ],
 "metadata": {
  "kernelspec": {
   "display_name": "Python 3",
   "language": "python",
   "name": "python3"
  },
  "language_info": {
   "codemirror_mode": {
    "name": "ipython",
    "version": 3
   },
   "file_extension": ".py",
   "mimetype": "text/x-python",
   "name": "python",
   "nbconvert_exporter": "python",
   "pygments_lexer": "ipython3",
   "version": "3.5.1"
  }
 },
 "nbformat": 4,
 "nbformat_minor": 0
}
