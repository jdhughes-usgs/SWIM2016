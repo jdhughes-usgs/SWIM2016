{
 "cells": [
  {
   "cell_type": "code",
   "execution_count": 1,
   "metadata": {
    "collapsed": true
   },
   "outputs": [],
   "source": [
    "%matplotlib inline\n",
    "\n",
    "import numpy as np\n",
    "import matplotlib.pyplot as plt\n",
    "\n",
    "import flopy\n",
    "\n",
    "import config"
   ]
  },
  {
   "cell_type": "code",
   "execution_count": 2,
   "metadata": {
    "collapsed": false
   },
   "outputs": [
    {
     "name": "stdout",
     "output_type": "stream",
     "text": [
      "/Users/jdhughes/Documents/Training/SWIM2016Course/bin/mf2005.mac\n"
     ]
    }
   ],
   "source": [
    "print(config.mfexe)"
   ]
  },
  {
   "cell_type": "code",
   "execution_count": 3,
   "metadata": {
    "collapsed": true
   },
   "outputs": [],
   "source": [
    "# create a model object\n",
    "# modflow - dis, bas, lpf, pcg, oc, wel`\n",
    "ml = flopy.modflow.Modflow(modelname='model1', \n",
    "                           exe_name=config.mfexe, \n",
    "                           model_ws='./work')\n"
   ]
  },
  {
   "cell_type": "code",
   "execution_count": 4,
   "metadata": {
    "collapsed": false
   },
   "outputs": [],
   "source": [
    "# nlay = 2, nrow = 101, ncol = 101, delr = delc = 100\n",
    "# each layer = 20 m\n",
    "nlay = 2\n",
    "ncol = 101\n",
    "nrow = 101\n",
    "dis = flopy.modflow.ModflowDis(ml, nlay=nlay, \n",
    "                               nrow=nrow, ncol=ncol, \n",
    "                               delr=100, delc=100, \n",
    "                               top=0, botm=[-20, -40])"
   ]
  },
  {
   "cell_type": "code",
   "execution_count": 5,
   "metadata": {
    "collapsed": true
   },
   "outputs": [],
   "source": [
    "# lpf\n",
    "hk = np.ones((nlay, nrow, ncol)) * 100.\n",
    "hk[1, :, :] = 150.\n",
    "vk = 1.\n",
    "lpf = flopy.modflow.ModflowLpf(ml, hk=hk, vka=vk)"
   ]
  },
  {
   "cell_type": "code",
   "execution_count": 6,
   "metadata": {
    "collapsed": false
   },
   "outputs": [],
   "source": [
    "# basic package - ibound, starting heads\n",
    "ibound = np.ones((nlay, nrow, ncol), dtype=np.int)\n",
    "ibound[0, 0, :] = -1 # first row\n",
    "ibound[0, -1, :] = -1 # last row\n",
    "ibound[0, :, 0] = -1 # first column\n",
    "ibound[0, :, -1] = -1 # last column\n",
    "bas = flopy.modflow.ModflowBas(ml, ibound=ibound, strt=0)"
   ]
  },
  {
   "cell_type": "code",
   "execution_count": 7,
   "metadata": {
    "collapsed": false
   },
   "outputs": [
    {
     "data": {
      "image/png": "[encoded data removed]",
      "text/plain": [
       "<matplotlib.figure.Figure at 0x104fce588>"
      ]
     },
     "metadata": {},
     "output_type": "display_data"
    },
    {
     "data": {
      "image/png": "[encoded data removed]",
      "text/plain": [
       "<matplotlib.figure.Figure at 0x11011db00>"
      ]
     },
     "metadata": {},
     "output_type": "display_data"
    }
   ],
   "source": [
    "# let's look at the ibound \n",
    "ml.bas6.ibound.plot();"
   ]
  },
  {
   "cell_type": "code",
   "execution_count": 8,
   "metadata": {
    "collapsed": true
   },
   "outputs": [],
   "source": [
    "# well in layer 2 at 50, 50, -1000\n",
    "spd = [[1, 50, 50, -1000.]]\n",
    "wel = flopy.modflow.ModflowWel(ml, \n",
    "                               stress_period_data=spd)"
   ]
  },
  {
   "cell_type": "code",
   "execution_count": 9,
   "metadata": {
    "collapsed": true
   },
   "outputs": [],
   "source": [
    "# solver\n",
    "pcg = flopy.modflow.ModflowPcg(ml)"
   ]
  },
  {
   "cell_type": "code",
   "execution_count": 10,
   "metadata": {
    "collapsed": true
   },
   "outputs": [],
   "source": [
    "# output control\n",
    "oc = flopy.modflow.ModflowOc(ml)"
   ]
  },
  {
   "cell_type": "code",
   "execution_count": 11,
   "metadata": {
    "collapsed": true
   },
   "outputs": [],
   "source": [
    "ml.write_input()"
   ]
  },
  {
   "cell_type": "code",
   "execution_count": 12,
   "metadata": {
    "collapsed": false
   },
   "outputs": [
    {
     "name": "stdout",
     "output_type": "stream",
     "text": [
      "FloPy is using the following executable to run the model: /Users/jdhughes/Documents/Training/SWIM2016Course/bin/mf2005.mac\n",
      "\n",
      "                                  MODFLOW-2005     \n",
      "    U.S. GEOLOGICAL SURVEY MODULAR FINITE-DIFFERENCE GROUND-WATER FLOW MODEL\n",
      "                             Version 1.11.00 8/8/2013                        \n",
      "\n",
      " Using NAME file: model1.nam \n",
      " Run start date and time (yyyy/mm/dd hh:mm:ss): 2016/06/29 10:52:40\n",
      "\n",
      " Solving:  Stress period:     1    Time step:     1    Ground-Water Flow Eqn.\n",
      " Run end date and time (yyyy/mm/dd hh:mm:ss): 2016/06/29 10:52:40\n",
      " Elapsed run time:  0.065 Seconds\n",
      "\n",
      "  Normal termination of simulation\n"
     ]
    },
    {
     "data": {
      "text/plain": [
       "(True, [])"
      ]
     },
     "execution_count": 12,
     "metadata": {},
     "output_type": "execute_result"
    }
   ],
   "source": [
    "ml.run_model(silent=False)"
   ]
  },
  {
   "cell_type": "code",
   "execution_count": 13,
   "metadata": {
    "collapsed": true
   },
   "outputs": [],
   "source": [
    "# post process output\n",
    "import os\n",
    "\n"
   ]
  },
  {
   "cell_type": "code",
   "execution_count": 14,
   "metadata": {
    "collapsed": false
   },
   "outputs": [
    {
     "name": "stdout",
     "output_type": "stream",
     "text": [
      "work/model1.hds\n"
     ]
    }
   ],
   "source": [
    "fn = os.path.join('work', 'model1.hds')\n",
    "print(fn)"
   ]
  },
  {
   "cell_type": "code",
   "execution_count": 15,
   "metadata": {
    "collapsed": false
   },
   "outputs": [],
   "source": [
    "hobj = flopy.utils.HeadFile(fn)\n",
    "h = hobj.get_data()"
   ]
  },
  {
   "cell_type": "code",
   "execution_count": 16,
   "metadata": {
    "collapsed": false
   },
   "outputs": [
    {
     "data": {
      "text/plain": [
       "(4000, 6000)"
      ]
     },
     "execution_count": 16,
     "metadata": {},
     "output_type": "execute_result"
    },
    {
     "data": {
      "image/png": "[encoded data removed]",
      "text/plain": [
       "<matplotlib.figure.Figure at 0x110930588>"
      ]
     },
     "metadata": {},
     "output_type": "display_data"
    }
   ],
   "source": [
    "# create a simple map\n",
    "mm = flopy.plot.ModelMap(model=ml, layer=1)\n",
    "ha = mm.plot_array(h)\n",
    "#mm.plot_grid()\n",
    "#mm.plot_bc(ftype='WEL')\n",
    "plt.colorbar(ha, shrink=0.5)\n",
    "plt.xlim(4000, 6000)\n",
    "plt.ylim(4000, 6000)"
   ]
  },
  {
   "cell_type": "code",
   "execution_count": 17,
   "metadata": {
    "collapsed": false,
    "scrolled": true
   },
   "outputs": [
    {
     "data": {
      "text/plain": [
       "(4000, 6000)"
      ]
     },
     "execution_count": 17,
     "metadata": {},
     "output_type": "execute_result"
    },
    {
     "data": {
      "image/png": "[encoded data removed]",
      "text/plain": [
       "<matplotlib.figure.Figure at 0x11090e3c8>"
      ]
     },
     "metadata": {},
     "output_type": "display_data"
    }
   ],
   "source": [
    "# create a simple map\n",
    "d = h.copy()\n",
    "d[0, :, :] = h[0, :, :] - h[1, :, :]\n",
    "d[1, :, :] = h[1, :, :] - h[0, :, :]\n",
    "mm = flopy.plot.ModelMap(model=ml, layer=0)\n",
    "ha = mm.plot_array(d)\n",
    "mm.plot_grid()\n",
    "mm.plot_bc(ftype='WEL')\n",
    "plt.colorbar(ha, shrink=0.5)\n",
    "plt.xlim(4000, 6000)\n",
    "plt.ylim(4000, 6000)"
   ]
  },
  {
   "cell_type": "code",
   "execution_count": 18,
   "metadata": {
    "collapsed": false
   },
   "outputs": [
    {
     "data": {
      "text/plain": [
       "(4000, 6000)"
      ]
     },
     "execution_count": 18,
     "metadata": {},
     "output_type": "execute_result"
    },
    {
     "data": {
      "image/png": "[encoded data removed]",
      "text/plain": [
       "<matplotlib.figure.Figure at 0x110b45518>"
      ]
     },
     "metadata": {},
     "output_type": "display_data"
    }
   ],
   "source": [
    "xs = flopy.plot.ModelCrossSection(model=ml, line={'column': 50})\n",
    "ha = xs.plot_array(h)\n",
    "plt.colorbar(ha, shrink=0.5)\n",
    "plt.xlim(4000, 6000)"
   ]
  },
  {
   "cell_type": "code",
   "execution_count": null,
   "metadata": {
    "collapsed": true
   },
   "outputs": [],
   "source": []
  }
 ],
 "metadata": {
  "kernelspec": {
   "display_name": "Python 3",
   "language": "python",
   "name": "python3"
  },
  "language_info": {
   "codemirror_mode": {
    "name": "ipython",
    "version": 3
   },
   "file_extension": ".py",
   "mimetype": "text/x-python",
   "name": "python",
   "nbconvert_exporter": "python",
   "pygments_lexer": "ipython3",
   "version": "3.5.1"
  }
 },
 "nbformat": 4,
 "nbformat_minor": 0
}
